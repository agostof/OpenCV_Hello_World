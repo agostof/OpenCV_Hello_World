{
 "cells": [
  {
   "cell_type": "markdown",
   "id": "872f4572-93f1-4985-a7d7-6eb91b3e0ccc",
   "metadata": {},
   "source": [
    "# OpenCV Hello World: Edge Detection\n",
    "\n",
    "## Overview\n",
    "\n",
    "This Jupyter notebook demonstrates the application of various edge detection techniques to an image using OpenCV and Matplotlib in Python. It explores different parameters and methods, with a primary focus on Canny and Sobel Edge Detection, to identify and visualize the boundaries within an image.\n",
    "\n",
    "## Structure of the Notebook\n",
    "\n",
    "1. **Import Libraries and Utility Functions**\n",
    "2. **Load and Display Original Image**\n",
    "3. **Preprocess the Image**\n",
    "4. **Canny Edge Detection**\n",
    "5. **Sobel Edge Detection**\n",
    " \n",
    "\n",
    "## References\n",
    "\n",
    "For additional information on edge detection using OpenCV, refer to [Learn OpenCV - Edge Detection](https://learnopencv.com/edge-detection-using-opencv/).\n",
    "\n",
    "## Convert Notebook to Python Script\n",
    "\n",
    "To convert this notebook to a Python script, you can use the `jupytext` command-line tool. If you have the notebook file named `OpenCV_Hello_World.ipynb`, you can convert it to a Python file by running the following command in your terminal:\n",
    "\n",
    "```sh\n",
    "jupytext OpenCV_Hello_World.ipynb --to py\n",
    "```\n"
   ]
  },
  {
   "cell_type": "markdown",
   "id": "8b07c8a3-47aa-4582-9d28-d9e7ba4678a4",
   "metadata": {},
   "source": [
    "### Import Libraries and Utility Functions\n",
    "- **cv2_imshow**: A utility function to display images in the notebook with the option to add a title. It can be used with or without specifying the `axes` parameter. It servers as a replacement for the `cv2.imshow()` function.\n",
    "- **auto_canny_edge_detection**: A function for performing Canny edge detection with automatically determined threshold values."
   ]
  },
  {
   "cell_type": "code",
   "execution_count": null,
   "id": "3e707b84-51d9-4675-a989-c9f3a6f739df",
   "metadata": {
    "tags": []
   },
   "outputs": [],
   "source": [
    "import cv2\n",
    "import numpy as np\n",
    "from matplotlib import pyplot as plt\n",
    "\n",
    "# import the utility functions \n",
    "from cvutils import cv2_imshow, auto_canny_edge_detection\n",
    "\n",
    "#cv2.__file__"
   ]
  },
  {
   "cell_type": "markdown",
   "id": "2d4d751e-d39e-465f-a3a3-222b2933af67",
   "metadata": {},
   "source": [
    "**Display current directory**"
   ]
  },
  {
   "cell_type": "code",
   "execution_count": null,
   "id": "1388de2d-5f6a-4ce5-987d-3d7fadfc8872",
   "metadata": {
    "tags": []
   },
   "outputs": [],
   "source": [
    "!pwd"
   ]
  },
  {
   "cell_type": "code",
   "execution_count": null,
   "id": "7cdbb5a7-02b2-45a8-ad3d-e68deb2eabec",
   "metadata": {
    "tags": []
   },
   "outputs": [],
   "source": [
    "import os\n",
    "\n",
    "# Define the results directory\n",
    "results_dir = 'results'\n",
    "\n",
    "# Check if the directory exists, if not, create it\n",
    "if not os.path.exists(results_dir):\n",
    "    print(f'Will create results directory: {results_dir}')\n",
    "    os.makedirs(results_dir)"
   ]
  },
  {
   "cell_type": "markdown",
   "id": "b89bc1ce-ddb2-474a-94e6-87dab368b982",
   "metadata": {},
   "source": [
    "### Load and Display Original Image\n",
    "\n",
    "- An image of different types of apples is loaded from the `data` directory and displayed using the custom `cv2_imshow` function.\n",
    "- The `image_file` variable can be modified to point to a new image if needed."
   ]
  },
  {
   "cell_type": "code",
   "execution_count": null,
   "id": "5c19fca0-3432-4547-8a70-5228a3d38efb",
   "metadata": {
    "tags": []
   },
   "outputs": [],
   "source": [
    "# image attribution:\n",
    "# https://www.vecteezy.com/members/grmarcstock (organic-apple-on-wooden-table)\n",
    "# image_file = 'data/apples-on-wooden-table-w1024.jpg'\n",
    "# img = cv2.imread(image_file)\n",
    "# cv2_imshow(\"Original: Apples on Wooden table\", img)\n",
    "\n",
    "#https://www.vecteezy.com/members/ringgrass279088 (natural-background-with-red-green-apple)\n",
    "image_file = 'data/red-green-apples-w1024.jpg'\n",
    "img = cv2.imread(image_file)\n",
    "cv2_imshow(\"Original: Red Green Apples\", img)"
   ]
  },
  {
   "cell_type": "code",
   "execution_count": null,
   "id": "1f0dd570-17f1-4d9c-bcd1-329826881f11",
   "metadata": {
    "jupyter": {
     "source_hidden": true
    },
    "tags": []
   },
   "outputs": [],
   "source": [
    "# import matplotlib.pyplot as plt\n",
    "# plt.figure(figsize=(8,8))\n",
    "# plt.title(\"Different types of apples\")\n",
    "# plt.imshow(img)\n",
    "# plt.axis('off')\n",
    "# plt.show()"
   ]
  },
  {
   "cell_type": "code",
   "execution_count": null,
   "id": "3cc36789-9959-48a4-961c-c52bb114ac1f",
   "metadata": {
    "tags": []
   },
   "outputs": [],
   "source": [
    "# This does not work in jupyter lab\n",
    "# cv2.imshow('image',img)\n",
    "# Use the alternative function provided below cv2_imgshow\n"
   ]
  },
  {
   "cell_type": "code",
   "execution_count": null,
   "id": "82b4c0ea-13a8-46d3-b613-59e1e64a3fa5",
   "metadata": {
    "jupyter": {
     "source_hidden": true
    },
    "tags": []
   },
   "outputs": [],
   "source": [
    "# Functions moved to cvutils \n",
    "# use with:\n",
    "#   cvutils import cv2_imshow, auto_canny_edge_detection\n",
    "# def cv2_imshow(title, image, axes=None, **kwargs):\n",
    "#     a = image.clip(0, 255).astype('uint8')\n",
    "#     plt.axis('off')\n",
    "\n",
    "#     # cv2 stores colors as BGR; convert to RGB\n",
    "#     if a.ndim == 3:\n",
    "#         if a.shape[2] == 4:\n",
    "#             a = cv2.cvtColor(a, cv2.COLOR_BGRA2RGBA)\n",
    "#         else:\n",
    "#             a = cv2.cvtColor(a, cv2.COLOR_BGR2RGB)\n",
    "#     if axes is not None:\n",
    "#         axes.axis('off')\n",
    "#         if title is not None:\n",
    "#             axes.set_title(title)\n",
    "#         return axes.imshow(a, **kwargs)\n",
    "#     else:\n",
    "#         #plt.axis('off')\n",
    "#         if title is not None:\n",
    "#             plt.title(title)\n",
    "\n",
    "#     return plt.imshow(a, **kwargs)\n",
    "\n",
    "\n",
    "# # This function was extracted\n",
    "# # from https://towardsdatascience.com/easy-method-of-edge-detection-in-opencv-python-db26972deb2d\n",
    "# def auto_canny_edge_detection(image, sigma=0.33):\n",
    "#     md = np.median(image)\n",
    "#     lower_value = int(max(0, (1.0-sigma) * md))\n",
    "#     upper_value = int(min(255, (1.0+sigma) * md))\n",
    "#     return cv2.Canny(image, lower_value, upper_value)"
   ]
  },
  {
   "cell_type": "markdown",
   "id": "5260584e-9283-4c56-b5be-bb5548e383bd",
   "metadata": {},
   "source": [
    "### Preprocess the Image\n",
    "  - The original image is converted to grayscale and blurred using a Gaussian filter.\n",
    "  - Results will be saved in `results/` directory. This is useful if notebook is run as Python script."
   ]
  },
  {
   "cell_type": "code",
   "execution_count": null,
   "id": "19c50a68-d056-44fa-9cfa-7d7c86b5d79b",
   "metadata": {
    "tags": []
   },
   "outputs": [],
   "source": [
    "img_gray = cv2.cvtColor(img, cv2.COLOR_BGR2GRAY)\n",
    "img_blur = cv2.GaussianBlur(img_gray, (5, 5), 0)\n",
    "\n",
    "fig, axarr = plt.subplots(nrows=2, ncols=2) \n",
    "cv2_imshow('Original',img, axarr[0][0])\n",
    "cv2_imshow('Gray', img_gray, axarr[0][1], cmap='gray')\n",
    "cv2_imshow('Blurred', img_blur, axarr[1][0], cmap='gray')\n",
    "\n",
    "# export the image to a file (might be useful if running as a script)\n",
    "plt.savefig(\"results/proccess_fig_01_Preproc.png\", bbox_inches='tight', pad_inches=0)"
   ]
  },
  {
   "cell_type": "markdown",
   "id": "58bbc193-5fdd-48c9-9e34-a194c04f57c7",
   "metadata": {},
   "source": [
    "###  Canny Edge Detection\n",
    "- Canny edge detection is applied with different threshold values (wide, mid, and tight).\n",
    "- An additional method, `auto_canny_edge_detection`, is also utilized.\n",
    "- The results of the edge detection are displayed in a 2x2 grid."
   ]
  },
  {
   "cell_type": "code",
   "execution_count": null,
   "id": "b7b1e15b-afff-4455-aad2-d4fb062e7764",
   "metadata": {
    "tags": []
   },
   "outputs": [],
   "source": [
    "wide = cv2.Canny(img_blur, 50, 200)\n",
    "mid = cv2.Canny(img_blur, 30, 150)\n",
    "tight = cv2.Canny(img_blur, 210, 250)\n",
    "auto_edge = auto_canny_edge_detection(img_blur)"
   ]
  },
  {
   "cell_type": "markdown",
   "id": "c33c7485-a9b6-4203-a636-fd01888447b5",
   "metadata": {},
   "source": [
    "### Display Canny Edge Detection Results"
   ]
  },
  {
   "cell_type": "code",
   "execution_count": null,
   "id": "4da105dc-f7ee-4d40-978b-c334c1120017",
   "metadata": {
    "tags": []
   },
   "outputs": [],
   "source": [
    "# Adjust nrows and ncols according to the number of images\n",
    "fig, axarr = plt.subplots(nrows=3, ncols=2)\n",
    "cv2_imshow('Original',img, axarr[0][0])\n",
    "cv2_imshow('Gray',img_gray, axarr[0][1], cmap='gray')\n",
    "cv2_imshow('Canny wide', wide, axarr[1][0])\n",
    "cv2_imshow('Canny mid', mid, axarr[1][1])\n",
    "cv2_imshow('Canny tight', tight, axarr[2][0])\n",
    "cv2_imshow('Canny using auto_canny_edge_detection()', auto_edge, axarr[1][1])\n",
    "# export Canny edge results\n",
    "plt.savefig(\"results/proccess_fig_02_Cany.png\", bbox_inches='tight', pad_inches=0)"
   ]
  },
  {
   "cell_type": "markdown",
   "id": "976e3c55-f718-47ba-a496-cf67c8d76c5a",
   "metadata": {},
   "source": [
    "### Sobel Edge Detection\n",
    "- The Sobel operator is used to detect edges in the X and Y directions separately.\n",
    "- Combined X and Y Sobel Edge Detection is also performed."
   ]
  },
  {
   "cell_type": "code",
   "execution_count": null,
   "id": "40a8c16a-1b8f-4617-a349-6de29ee10c6e",
   "metadata": {
    "tags": []
   },
   "outputs": [],
   "source": [
    "# Reference: https://learnopencv.com/edge-detection-using-opencv/\n",
    "# Sobel Edge Detection\n",
    "# Sobel Edge Detection on the X axis\n",
    "sobelx = cv2.Sobel(src=img_blur, ddepth=cv2.CV_64F, dx=1, dy=0, ksize=5)\n",
    "# Sobel Edge Detection on the Y axis\n",
    "sobely = cv2.Sobel(src=img_blur, ddepth=cv2.CV_64F, dx=0, dy=1, ksize=5)\n",
    "# Combined X and Y Sobel Edge Detection\n",
    "sobelxy = cv2.Sobel(src=img_blur, ddepth=cv2.CV_64F, dx=1, dy=1, ksize=5)"
   ]
  },
  {
   "cell_type": "markdown",
   "id": "1aa38251-d538-479f-b1a1-0d6114d09924",
   "metadata": {},
   "source": [
    "### Display Sobel Edge Detection Results"
   ]
  },
  {
   "cell_type": "code",
   "execution_count": null,
   "id": "57399e01-44d6-455a-8658-9782f069a75b",
   "metadata": {
    "tags": []
   },
   "outputs": [],
   "source": [
    "fig, axarr = plt.subplots(nrows=2, ncols=2) \n",
    "cv2_imshow('Gray',img_gray, axarr[0][0], cmap='gray')\n",
    "cv2_imshow('Sobel X', sobelx, axarr[0][1])\n",
    "cv2_imshow('Sobel Y', sobely, axarr[1][0])\n",
    "cv2_imshow('Sobel X Y using Sobel() function', sobelxy, axarr[1][1])\n",
    "# export Sobel edge results\n",
    "plt.savefig(\"results/proccess_fig_03_Sobel.png\", bbox_inches='tight', pad_inches=0)"
   ]
  },
  {
   "cell_type": "markdown",
   "id": "69040fdc-8f60-4172-9e22-a546b7a723c2",
   "metadata": {},
   "source": [
    "### Results\n",
    "List the resutls directory contents for verification"
   ]
  },
  {
   "cell_type": "code",
   "execution_count": null,
   "id": "a446093e-ad8c-41f8-acc3-ea8bf4c59aaa",
   "metadata": {
    "tags": []
   },
   "outputs": [],
   "source": [
    "result_files = os.listdir(results_dir)\n",
    "results = \"\\n\".join(result_files)\n",
    "print(f'The following files were saved to the results directory:\\n{results}')"
   ]
  }
 ],
 "metadata": {
  "kernelspec": {
   "display_name": "Python 3 (ipykernel)",
   "language": "python",
   "name": "python3"
  },
  "language_info": {
   "codemirror_mode": {
    "name": "ipython",
    "version": 3
   },
   "file_extension": ".py",
   "mimetype": "text/x-python",
   "name": "python",
   "nbconvert_exporter": "python",
   "pygments_lexer": "ipython3",
   "version": "3.9.7"
  }
 },
 "nbformat": 4,
 "nbformat_minor": 5
}
